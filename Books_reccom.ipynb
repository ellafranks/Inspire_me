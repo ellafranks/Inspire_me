{
 "cells": [
  {
   "cell_type": "markdown",
   "metadata": {},
   "source": [
    "# Book recommendations: \n",
    "### An exporation of Collaberative and Content Based Filtering\n",
    "\n",
    "- EDA \n",
    "- Collaberative based filtering\n",
    "- Content based filtering "
   ]
  },
  {
   "cell_type": "code",
   "execution_count": 1,
   "metadata": {
    "ExecuteTime": {
     "end_time": "2020-04-02T17:41:13.778026Z",
     "start_time": "2020-04-02T17:41:11.356165Z"
    }
   },
   "outputs": [],
   "source": [
    "import pandas as pd\n",
    "import numpy as np"
   ]
  },
  {
   "cell_type": "code",
   "execution_count": 846,
   "metadata": {
    "ExecuteTime": {
     "end_time": "2020-04-07T15:58:55.483270Z",
     "start_time": "2020-04-07T15:58:55.451537Z"
    }
   },
   "outputs": [],
   "source": [
    "import matplotlib.pyplot as plt\n",
    "import seaborn as sns\n",
    "\n",
    "plt.style.use('ggplot')\n",
    "sns.set(font_scale=1.5)\n",
    "%config InlineBackend.figure_format = 'retina'\n",
    "%matplotlib inline\n",
    "\n",
    "from matplotlib import cm\n",
    "import networkx as nx"
   ]
  },
  {
   "cell_type": "code",
   "execution_count": 542,
   "metadata": {
    "ExecuteTime": {
     "end_time": "2020-04-06T16:07:02.398615Z",
     "start_time": "2020-04-06T16:07:02.293266Z"
    }
   },
   "outputs": [],
   "source": [
    "import surprise as sur"
   ]
  },
  {
   "cell_type": "code",
   "execution_count": 547,
   "metadata": {
    "ExecuteTime": {
     "end_time": "2020-04-06T16:45:56.889616Z",
     "start_time": "2020-04-06T16:45:56.862242Z"
    }
   },
   "outputs": [],
   "source": [
    "import random"
   ]
  },
  {
   "cell_type": "code",
   "execution_count": 5,
   "metadata": {
    "ExecuteTime": {
     "end_time": "2020-04-02T17:41:17.338698Z",
     "start_time": "2020-04-02T17:41:17.333454Z"
    }
   },
   "outputs": [],
   "source": [
    "from collections import defaultdict"
   ]
  },
  {
   "cell_type": "code",
   "execution_count": 6,
   "metadata": {
    "ExecuteTime": {
     "end_time": "2020-04-02T17:41:18.438994Z",
     "start_time": "2020-04-02T17:41:17.730573Z"
    }
   },
   "outputs": [],
   "source": [
    "from sklearn.feature_extraction.text import TfidfVectorizer\n",
    "from sklearn.metrics.pairwise import linear_kernel"
   ]
  },
  {
   "cell_type": "markdown",
   "metadata": {},
   "source": [
    "# Importing data "
   ]
  },
  {
   "cell_type": "code",
   "execution_count": 967,
   "metadata": {
    "ExecuteTime": {
     "end_time": "2020-04-08T10:31:49.955763Z",
     "start_time": "2020-04-08T10:31:48.879203Z"
    }
   },
   "outputs": [],
   "source": [
    "ratings = pd.read_csv( 'goodbooks-10k/ratings.csv')\n",
    "books = pd.read_csv( 'goodbooks-10k/books.csv' )\n",
    "book_tags = pd.read_csv('goodbooks-10k/book_tags.csv')\n",
    "tags = pd.read_csv('goodbooks-10k/tags.csv')"
   ]
  },
  {
   "cell_type": "code",
   "execution_count": 968,
   "metadata": {
    "ExecuteTime": {
     "end_time": "2020-04-08T10:31:50.435107Z",
     "start_time": "2020-04-08T10:31:49.965986Z"
    }
   },
   "outputs": [],
   "source": [
    "ratings_full = pd.read_csv( 'goodbooks-10k/ratings.csv')\n",
    "books_full = pd.read_csv( 'goodbooks-10k/books.csv' )"
   ]
  },
  {
   "cell_type": "markdown",
   "metadata": {},
   "source": [
    "# EDA"
   ]
  },
  {
   "cell_type": "markdown",
   "metadata": {},
   "source": [
    "**Books dataframe contains the meta data (additional features)**"
   ]
  },
  {
   "cell_type": "code",
   "execution_count": 969,
   "metadata": {
    "ExecuteTime": {
     "end_time": "2020-04-08T10:31:51.506199Z",
     "start_time": "2020-04-08T10:31:51.459556Z"
    }
   },
   "outputs": [
    {
     "data": {
      "text/html": [
       "<div>\n",
       "<style scoped>\n",
       "    .dataframe tbody tr th:only-of-type {\n",
       "        vertical-align: middle;\n",
       "    }\n",
       "\n",
       "    .dataframe tbody tr th {\n",
       "        vertical-align: top;\n",
       "    }\n",
       "\n",
       "    .dataframe thead th {\n",
       "        text-align: right;\n",
       "    }\n",
       "</style>\n",
       "<table border=\"1\" class=\"dataframe\">\n",
       "  <thead>\n",
       "    <tr style=\"text-align: right;\">\n",
       "      <th></th>\n",
       "      <th>id</th>\n",
       "      <th>book_id</th>\n",
       "      <th>best_book_id</th>\n",
       "      <th>work_id</th>\n",
       "      <th>books_count</th>\n",
       "      <th>isbn</th>\n",
       "      <th>isbn13</th>\n",
       "      <th>authors</th>\n",
       "      <th>original_publication_year</th>\n",
       "      <th>original_title</th>\n",
       "      <th>...</th>\n",
       "      <th>ratings_count</th>\n",
       "      <th>work_ratings_count</th>\n",
       "      <th>work_text_reviews_count</th>\n",
       "      <th>ratings_1</th>\n",
       "      <th>ratings_2</th>\n",
       "      <th>ratings_3</th>\n",
       "      <th>ratings_4</th>\n",
       "      <th>ratings_5</th>\n",
       "      <th>image_url</th>\n",
       "      <th>small_image_url</th>\n",
       "    </tr>\n",
       "  </thead>\n",
       "  <tbody>\n",
       "    <tr>\n",
       "      <td>0</td>\n",
       "      <td>1</td>\n",
       "      <td>2767052</td>\n",
       "      <td>2767052</td>\n",
       "      <td>2792775</td>\n",
       "      <td>272</td>\n",
       "      <td>439023483</td>\n",
       "      <td>9.780439e+12</td>\n",
       "      <td>Suzanne Collins</td>\n",
       "      <td>2008.0</td>\n",
       "      <td>The Hunger Games</td>\n",
       "      <td>...</td>\n",
       "      <td>4780653</td>\n",
       "      <td>4942365</td>\n",
       "      <td>155254</td>\n",
       "      <td>66715</td>\n",
       "      <td>127936</td>\n",
       "      <td>560092</td>\n",
       "      <td>1481305</td>\n",
       "      <td>2706317</td>\n",
       "      <td>https://images.gr-assets.com/books/1447303603m...</td>\n",
       "      <td>https://images.gr-assets.com/books/1447303603s...</td>\n",
       "    </tr>\n",
       "    <tr>\n",
       "      <td>1</td>\n",
       "      <td>2</td>\n",
       "      <td>3</td>\n",
       "      <td>3</td>\n",
       "      <td>4640799</td>\n",
       "      <td>491</td>\n",
       "      <td>439554934</td>\n",
       "      <td>9.780440e+12</td>\n",
       "      <td>J.K. Rowling, Mary GrandPré</td>\n",
       "      <td>1997.0</td>\n",
       "      <td>Harry Potter and the Philosopher's Stone</td>\n",
       "      <td>...</td>\n",
       "      <td>4602479</td>\n",
       "      <td>4800065</td>\n",
       "      <td>75867</td>\n",
       "      <td>75504</td>\n",
       "      <td>101676</td>\n",
       "      <td>455024</td>\n",
       "      <td>1156318</td>\n",
       "      <td>3011543</td>\n",
       "      <td>https://images.gr-assets.com/books/1474154022m...</td>\n",
       "      <td>https://images.gr-assets.com/books/1474154022s...</td>\n",
       "    </tr>\n",
       "    <tr>\n",
       "      <td>2</td>\n",
       "      <td>3</td>\n",
       "      <td>41865</td>\n",
       "      <td>41865</td>\n",
       "      <td>3212258</td>\n",
       "      <td>226</td>\n",
       "      <td>316015849</td>\n",
       "      <td>9.780316e+12</td>\n",
       "      <td>Stephenie Meyer</td>\n",
       "      <td>2005.0</td>\n",
       "      <td>Twilight</td>\n",
       "      <td>...</td>\n",
       "      <td>3866839</td>\n",
       "      <td>3916824</td>\n",
       "      <td>95009</td>\n",
       "      <td>456191</td>\n",
       "      <td>436802</td>\n",
       "      <td>793319</td>\n",
       "      <td>875073</td>\n",
       "      <td>1355439</td>\n",
       "      <td>https://images.gr-assets.com/books/1361039443m...</td>\n",
       "      <td>https://images.gr-assets.com/books/1361039443s...</td>\n",
       "    </tr>\n",
       "    <tr>\n",
       "      <td>3</td>\n",
       "      <td>4</td>\n",
       "      <td>2657</td>\n",
       "      <td>2657</td>\n",
       "      <td>3275794</td>\n",
       "      <td>487</td>\n",
       "      <td>61120081</td>\n",
       "      <td>9.780061e+12</td>\n",
       "      <td>Harper Lee</td>\n",
       "      <td>1960.0</td>\n",
       "      <td>To Kill a Mockingbird</td>\n",
       "      <td>...</td>\n",
       "      <td>3198671</td>\n",
       "      <td>3340896</td>\n",
       "      <td>72586</td>\n",
       "      <td>60427</td>\n",
       "      <td>117415</td>\n",
       "      <td>446835</td>\n",
       "      <td>1001952</td>\n",
       "      <td>1714267</td>\n",
       "      <td>https://images.gr-assets.com/books/1361975680m...</td>\n",
       "      <td>https://images.gr-assets.com/books/1361975680s...</td>\n",
       "    </tr>\n",
       "    <tr>\n",
       "      <td>4</td>\n",
       "      <td>5</td>\n",
       "      <td>4671</td>\n",
       "      <td>4671</td>\n",
       "      <td>245494</td>\n",
       "      <td>1356</td>\n",
       "      <td>743273567</td>\n",
       "      <td>9.780743e+12</td>\n",
       "      <td>F. Scott Fitzgerald</td>\n",
       "      <td>1925.0</td>\n",
       "      <td>The Great Gatsby</td>\n",
       "      <td>...</td>\n",
       "      <td>2683664</td>\n",
       "      <td>2773745</td>\n",
       "      <td>51992</td>\n",
       "      <td>86236</td>\n",
       "      <td>197621</td>\n",
       "      <td>606158</td>\n",
       "      <td>936012</td>\n",
       "      <td>947718</td>\n",
       "      <td>https://images.gr-assets.com/books/1490528560m...</td>\n",
       "      <td>https://images.gr-assets.com/books/1490528560s...</td>\n",
       "    </tr>\n",
       "  </tbody>\n",
       "</table>\n",
       "<p>5 rows × 23 columns</p>\n",
       "</div>"
      ],
      "text/plain": [
       "   id  book_id  best_book_id  work_id  books_count       isbn        isbn13  \\\n",
       "0   1  2767052       2767052  2792775          272  439023483  9.780439e+12   \n",
       "1   2        3             3  4640799          491  439554934  9.780440e+12   \n",
       "2   3    41865         41865  3212258          226  316015849  9.780316e+12   \n",
       "3   4     2657          2657  3275794          487   61120081  9.780061e+12   \n",
       "4   5     4671          4671   245494         1356  743273567  9.780743e+12   \n",
       "\n",
       "                       authors  original_publication_year  \\\n",
       "0              Suzanne Collins                     2008.0   \n",
       "1  J.K. Rowling, Mary GrandPré                     1997.0   \n",
       "2              Stephenie Meyer                     2005.0   \n",
       "3                   Harper Lee                     1960.0   \n",
       "4          F. Scott Fitzgerald                     1925.0   \n",
       "\n",
       "                             original_title  ... ratings_count  \\\n",
       "0                          The Hunger Games  ...       4780653   \n",
       "1  Harry Potter and the Philosopher's Stone  ...       4602479   \n",
       "2                                  Twilight  ...       3866839   \n",
       "3                     To Kill a Mockingbird  ...       3198671   \n",
       "4                          The Great Gatsby  ...       2683664   \n",
       "\n",
       "  work_ratings_count  work_text_reviews_count  ratings_1  ratings_2  \\\n",
       "0            4942365                   155254      66715     127936   \n",
       "1            4800065                    75867      75504     101676   \n",
       "2            3916824                    95009     456191     436802   \n",
       "3            3340896                    72586      60427     117415   \n",
       "4            2773745                    51992      86236     197621   \n",
       "\n",
       "   ratings_3  ratings_4  ratings_5  \\\n",
       "0     560092    1481305    2706317   \n",
       "1     455024    1156318    3011543   \n",
       "2     793319     875073    1355439   \n",
       "3     446835    1001952    1714267   \n",
       "4     606158     936012     947718   \n",
       "\n",
       "                                           image_url  \\\n",
       "0  https://images.gr-assets.com/books/1447303603m...   \n",
       "1  https://images.gr-assets.com/books/1474154022m...   \n",
       "2  https://images.gr-assets.com/books/1361039443m...   \n",
       "3  https://images.gr-assets.com/books/1361975680m...   \n",
       "4  https://images.gr-assets.com/books/1490528560m...   \n",
       "\n",
       "                                     small_image_url  \n",
       "0  https://images.gr-assets.com/books/1447303603s...  \n",
       "1  https://images.gr-assets.com/books/1474154022s...  \n",
       "2  https://images.gr-assets.com/books/1361039443s...  \n",
       "3  https://images.gr-assets.com/books/1361975680s...  \n",
       "4  https://images.gr-assets.com/books/1490528560s...  \n",
       "\n",
       "[5 rows x 23 columns]"
      ]
     },
     "execution_count": 969,
     "metadata": {},
     "output_type": "execute_result"
    }
   ],
   "source": [
    "books.head()"
   ]
  },
  {
   "cell_type": "code",
   "execution_count": 970,
   "metadata": {
    "ExecuteTime": {
     "end_time": "2020-04-08T10:31:53.239060Z",
     "start_time": "2020-04-08T10:31:53.211229Z"
    }
   },
   "outputs": [
    {
     "data": {
      "text/plain": [
       "(10000, 23)"
      ]
     },
     "execution_count": 970,
     "metadata": {},
     "output_type": "execute_result"
    }
   ],
   "source": [
    "books.shape"
   ]
  },
  {
   "cell_type": "markdown",
   "metadata": {},
   "source": [
    "**Top 10 rated books**"
   ]
  },
  {
   "cell_type": "code",
   "execution_count": 971,
   "metadata": {
    "ExecuteTime": {
     "end_time": "2020-04-08T10:31:55.426711Z",
     "start_time": "2020-04-08T10:31:55.223510Z"
    }
   },
   "outputs": [
    {
     "data": {
      "text/html": [
       "<div>\n",
       "<style scoped>\n",
       "    .dataframe tbody tr th:only-of-type {\n",
       "        vertical-align: middle;\n",
       "    }\n",
       "\n",
       "    .dataframe tbody tr th {\n",
       "        vertical-align: top;\n",
       "    }\n",
       "\n",
       "    .dataframe thead th {\n",
       "        text-align: right;\n",
       "    }\n",
       "</style>\n",
       "<table border=\"1\" class=\"dataframe\">\n",
       "  <thead>\n",
       "    <tr style=\"text-align: right;\">\n",
       "      <th></th>\n",
       "      <th>average_rating</th>\n",
       "    </tr>\n",
       "    <tr>\n",
       "      <th>original_title</th>\n",
       "      <th></th>\n",
       "    </tr>\n",
       "  </thead>\n",
       "  <tbody>\n",
       "    <tr>\n",
       "      <td>The Complete Calvin and Hobbes</td>\n",
       "      <td>4.82</td>\n",
       "    </tr>\n",
       "    <tr>\n",
       "      <td>Words of Radiance</td>\n",
       "      <td>4.77</td>\n",
       "    </tr>\n",
       "    <tr>\n",
       "      <td>Mark of the Lion Trilogy</td>\n",
       "      <td>4.76</td>\n",
       "    </tr>\n",
       "    <tr>\n",
       "      <td>It's a Magical World: A Calvin and Hobbes Collection</td>\n",
       "      <td>4.75</td>\n",
       "    </tr>\n",
       "    <tr>\n",
       "      <td>Complete Harry Potter Boxed Set</td>\n",
       "      <td>4.74</td>\n",
       "    </tr>\n",
       "  </tbody>\n",
       "</table>\n",
       "</div>"
      ],
      "text/plain": [
       "                                                    average_rating\n",
       "original_title                                                    \n",
       "The Complete Calvin and Hobbes                                4.82\n",
       "Words of Radiance                                             4.77\n",
       "Mark of the Lion Trilogy                                      4.76\n",
       "It's a Magical World: A Calvin and Hobbes Colle...            4.75\n",
       "Complete Harry Potter Boxed Set                               4.74"
      ]
     },
     "execution_count": 971,
     "metadata": {},
     "output_type": "execute_result"
    }
   ],
   "source": [
    "books.groupby('original_title')[['average_rating']].mean().sort_values(by='average_rating', ascending=False).head()"
   ]
  },
  {
   "cell_type": "markdown",
   "metadata": {},
   "source": [
    "**Top 10 popular books**"
   ]
  },
  {
   "cell_type": "code",
   "execution_count": 972,
   "metadata": {
    "ExecuteTime": {
     "end_time": "2020-04-08T10:31:58.512461Z",
     "start_time": "2020-04-08T10:31:58.465178Z"
    }
   },
   "outputs": [
    {
     "data": {
      "text/html": [
       "<div>\n",
       "<style scoped>\n",
       "    .dataframe tbody tr th:only-of-type {\n",
       "        vertical-align: middle;\n",
       "    }\n",
       "\n",
       "    .dataframe tbody tr th {\n",
       "        vertical-align: top;\n",
       "    }\n",
       "\n",
       "    .dataframe thead th {\n",
       "        text-align: right;\n",
       "    }\n",
       "</style>\n",
       "<table border=\"1\" class=\"dataframe\">\n",
       "  <thead>\n",
       "    <tr style=\"text-align: right;\">\n",
       "      <th></th>\n",
       "      <th>work_ratings_count</th>\n",
       "    </tr>\n",
       "    <tr>\n",
       "      <th>original_title</th>\n",
       "      <th></th>\n",
       "    </tr>\n",
       "  </thead>\n",
       "  <tbody>\n",
       "    <tr>\n",
       "      <td>The Hunger Games</td>\n",
       "      <td>4942365.0</td>\n",
       "    </tr>\n",
       "    <tr>\n",
       "      <td>Harry Potter and the Philosopher's Stone</td>\n",
       "      <td>4800065.0</td>\n",
       "    </tr>\n",
       "    <tr>\n",
       "      <td>To Kill a Mockingbird</td>\n",
       "      <td>3340896.0</td>\n",
       "    </tr>\n",
       "    <tr>\n",
       "      <td>The Great Gatsby</td>\n",
       "      <td>2773745.0</td>\n",
       "    </tr>\n",
       "    <tr>\n",
       "      <td>The Fault in Our Stars</td>\n",
       "      <td>2478609.0</td>\n",
       "    </tr>\n",
       "  </tbody>\n",
       "</table>\n",
       "</div>"
      ],
      "text/plain": [
       "                                          work_ratings_count\n",
       "original_title                                              \n",
       "The Hunger Games                                   4942365.0\n",
       "Harry Potter and the Philosopher's Stone           4800065.0\n",
       "To Kill a Mockingbird                              3340896.0\n",
       "The Great Gatsby                                   2773745.0\n",
       "The Fault in Our Stars                             2478609.0"
      ]
     },
     "execution_count": 972,
     "metadata": {},
     "output_type": "execute_result"
    }
   ],
   "source": [
    "books.groupby('original_title')[['work_ratings_count']].mean().sort_values(by='work_ratings_count', ascending=False).head()"
   ]
  },
  {
   "cell_type": "markdown",
   "metadata": {},
   "source": [
    "**Merge tag names dataframe with tag id dataframe**"
   ]
  },
  {
   "cell_type": "code",
   "execution_count": 973,
   "metadata": {
    "ExecuteTime": {
     "end_time": "2020-04-08T10:32:06.182701Z",
     "start_time": "2020-04-08T10:32:05.584344Z"
    }
   },
   "outputs": [
    {
     "data": {
      "text/html": [
       "<div>\n",
       "<style scoped>\n",
       "    .dataframe tbody tr th:only-of-type {\n",
       "        vertical-align: middle;\n",
       "    }\n",
       "\n",
       "    .dataframe tbody tr th {\n",
       "        vertical-align: top;\n",
       "    }\n",
       "\n",
       "    .dataframe thead th {\n",
       "        text-align: right;\n",
       "    }\n",
       "</style>\n",
       "<table border=\"1\" class=\"dataframe\">\n",
       "  <thead>\n",
       "    <tr style=\"text-align: right;\">\n",
       "      <th></th>\n",
       "      <th>goodreads_book_id</th>\n",
       "      <th>tag_id</th>\n",
       "      <th>count</th>\n",
       "      <th>tag_name</th>\n",
       "    </tr>\n",
       "  </thead>\n",
       "  <tbody>\n",
       "    <tr>\n",
       "      <td>999907</td>\n",
       "      <td>31538635</td>\n",
       "      <td>14690</td>\n",
       "      <td>6</td>\n",
       "      <td>hogwarts</td>\n",
       "    </tr>\n",
       "    <tr>\n",
       "      <td>999908</td>\n",
       "      <td>32848471</td>\n",
       "      <td>16149</td>\n",
       "      <td>21</td>\n",
       "      <td>jan-2017</td>\n",
       "    </tr>\n",
       "    <tr>\n",
       "      <td>999909</td>\n",
       "      <td>33288638</td>\n",
       "      <td>27821</td>\n",
       "      <td>9</td>\n",
       "      <td>single-mom</td>\n",
       "    </tr>\n",
       "    <tr>\n",
       "      <td>999910</td>\n",
       "      <td>33288638</td>\n",
       "      <td>11478</td>\n",
       "      <td>7</td>\n",
       "      <td>fave-author</td>\n",
       "    </tr>\n",
       "    <tr>\n",
       "      <td>999911</td>\n",
       "      <td>33288638</td>\n",
       "      <td>27939</td>\n",
       "      <td>7</td>\n",
       "      <td>slowburn</td>\n",
       "    </tr>\n",
       "  </tbody>\n",
       "</table>\n",
       "</div>"
      ],
      "text/plain": [
       "        goodreads_book_id  tag_id  count     tag_name\n",
       "999907           31538635   14690      6     hogwarts\n",
       "999908           32848471   16149     21     jan-2017\n",
       "999909           33288638   27821      9   single-mom\n",
       "999910           33288638   11478      7  fave-author\n",
       "999911           33288638   27939      7     slowburn"
      ]
     },
     "execution_count": 973,
     "metadata": {},
     "output_type": "execute_result"
    }
   ],
   "source": [
    "tags_join_DF = pd.merge(book_tags, tags, on='tag_id', how='inner')\n",
    "tags_join_DF.tail()"
   ]
  },
  {
   "cell_type": "markdown",
   "metadata": {},
   "source": [
    "**Rating dataframe** are sorted by book_id and user_id."
   ]
  },
  {
   "cell_type": "code",
   "execution_count": 974,
   "metadata": {
    "ExecuteTime": {
     "end_time": "2020-04-08T10:32:06.841733Z",
     "start_time": "2020-04-08T10:32:06.720778Z"
    }
   },
   "outputs": [
    {
     "data": {
      "text/html": [
       "<div>\n",
       "<style scoped>\n",
       "    .dataframe tbody tr th:only-of-type {\n",
       "        vertical-align: middle;\n",
       "    }\n",
       "\n",
       "    .dataframe tbody tr th {\n",
       "        vertical-align: top;\n",
       "    }\n",
       "\n",
       "    .dataframe thead th {\n",
       "        text-align: right;\n",
       "    }\n",
       "</style>\n",
       "<table border=\"1\" class=\"dataframe\">\n",
       "  <thead>\n",
       "    <tr style=\"text-align: right;\">\n",
       "      <th></th>\n",
       "      <th>user_id</th>\n",
       "      <th>book_id</th>\n",
       "      <th>rating</th>\n",
       "    </tr>\n",
       "  </thead>\n",
       "  <tbody>\n",
       "    <tr>\n",
       "      <td>0</td>\n",
       "      <td>314</td>\n",
       "      <td>1</td>\n",
       "      <td>5</td>\n",
       "    </tr>\n",
       "    <tr>\n",
       "      <td>1</td>\n",
       "      <td>439</td>\n",
       "      <td>1</td>\n",
       "      <td>3</td>\n",
       "    </tr>\n",
       "    <tr>\n",
       "      <td>2</td>\n",
       "      <td>588</td>\n",
       "      <td>1</td>\n",
       "      <td>5</td>\n",
       "    </tr>\n",
       "    <tr>\n",
       "      <td>3</td>\n",
       "      <td>1169</td>\n",
       "      <td>1</td>\n",
       "      <td>4</td>\n",
       "    </tr>\n",
       "    <tr>\n",
       "      <td>4</td>\n",
       "      <td>1185</td>\n",
       "      <td>1</td>\n",
       "      <td>4</td>\n",
       "    </tr>\n",
       "  </tbody>\n",
       "</table>\n",
       "</div>"
      ],
      "text/plain": [
       "   user_id  book_id  rating\n",
       "0      314        1       5\n",
       "1      439        1       3\n",
       "2      588        1       5\n",
       "3     1169        1       4\n",
       "4     1185        1       4"
      ]
     },
     "execution_count": 974,
     "metadata": {},
     "output_type": "execute_result"
    }
   ],
   "source": [
    "ratings = ratings[['user_id', 'book_id', 'rating']]\n",
    "ratings.head()"
   ]
  },
  {
   "cell_type": "code",
   "execution_count": 975,
   "metadata": {
    "ExecuteTime": {
     "end_time": "2020-04-08T10:32:07.837909Z",
     "start_time": "2020-04-08T10:32:07.703181Z"
    },
    "scrolled": true
   },
   "outputs": [
    {
     "name": "stdout",
     "output_type": "stream",
     "text": [
      "n_users =  53424 || n_books =  10000 || max_n_ratings =  534240000\n"
     ]
    }
   ],
   "source": [
    "n_users = int(ratings.user_id.nunique())\n",
    "n_books = int(ratings.book_id.nunique())\n",
    "print(\"n_users = \",n_users, \"||\", \"n_books = \", n_books, \"||\", \"max_n_ratings = \", n_users*n_books)"
   ]
  },
  {
   "cell_type": "markdown",
   "metadata": {},
   "source": [
    "With only 981756 number of ratings (out of the possible 534240000 user-item combinations), the matrix is very sparse, with less than 0.001 percent as ratings. "
   ]
  },
  {
   "cell_type": "code",
   "execution_count": 983,
   "metadata": {
    "ExecuteTime": {
     "end_time": "2020-04-08T10:34:48.759799Z",
     "start_time": "2020-04-08T10:34:48.321440Z"
    }
   },
   "outputs": [
    {
     "name": "stdout",
     "output_type": "stream",
     "text": [
      "There are 1644 duplictates found in 981756 rows\n"
     ]
    }
   ],
   "source": [
    "print('There are {} duplictates found in {} rows'.format(ratings.duplicated().sum(), ratings.shape[0]))"
   ]
  },
  {
   "cell_type": "markdown",
   "metadata": {},
   "source": [
    "Remove duplicates where a user has rated the same book more than once"
   ]
  },
  {
   "cell_type": "code",
   "execution_count": 984,
   "metadata": {
    "ExecuteTime": {
     "end_time": "2020-04-08T10:34:50.176428Z",
     "start_time": "2020-04-08T10:34:49.930626Z"
    }
   },
   "outputs": [],
   "source": [
    "ratings.drop_duplicates(inplace=True)"
   ]
  },
  {
   "cell_type": "markdown",
   "metadata": {},
   "source": [
    "**Distribution of ratings:**\n",
    "4 is the most popular rating, with relatively few 1s and 2s. People tend to give more positive ratings."
   ]
  },
  {
   "cell_type": "code",
   "execution_count": 985,
   "metadata": {
    "ExecuteTime": {
     "end_time": "2020-04-08T10:34:53.076369Z",
     "start_time": "2020-04-08T10:34:51.511377Z"
    }
   },
   "outputs": [
    {
     "data": {
      "image/png": "[encoded data removed]",
      "text/plain": [
       "<Figure size 432x288 with 1 Axes>"
      ]
     },
     "metadata": {
      "image/png": {
       "height": 280,
       "width": 437
      },
      "needs_background": "light"
     },
     "output_type": "display_data"
    }
   ],
   "source": [
    "sns.countplot(data=ratings, x=ratings.rating);"
   ]
  },
  {
   "cell_type": "markdown",
   "metadata": {},
   "source": [
    "**User Reviews**\n",
    "- Most users rate 18 books\n",
    "- As little as 1 review per user and at most 200."
   ]
  },
  {
   "cell_type": "code",
   "execution_count": 986,
   "metadata": {
    "ExecuteTime": {
     "end_time": "2020-04-08T10:34:53.330983Z",
     "start_time": "2020-04-08T10:34:53.082967Z"
    }
   },
   "outputs": [
    {
     "data": {
      "text/html": [
       "<div>\n",
       "<style scoped>\n",
       "    .dataframe tbody tr th:only-of-type {\n",
       "        vertical-align: middle;\n",
       "    }\n",
       "\n",
       "    .dataframe tbody tr th {\n",
       "        vertical-align: top;\n",
       "    }\n",
       "\n",
       "    .dataframe thead th {\n",
       "        text-align: right;\n",
       "    }\n",
       "</style>\n",
       "<table border=\"1\" class=\"dataframe\">\n",
       "  <thead>\n",
       "    <tr style=\"text-align: right;\">\n",
       "      <th></th>\n",
       "      <th>rating</th>\n",
       "    </tr>\n",
       "  </thead>\n",
       "  <tbody>\n",
       "    <tr>\n",
       "      <td>count</td>\n",
       "      <td>53424.000000</td>\n",
       "    </tr>\n",
       "    <tr>\n",
       "      <td>mean</td>\n",
       "      <td>18.345912</td>\n",
       "    </tr>\n",
       "    <tr>\n",
       "      <td>std</td>\n",
       "      <td>26.237043</td>\n",
       "    </tr>\n",
       "    <tr>\n",
       "      <td>min</td>\n",
       "      <td>1.000000</td>\n",
       "    </tr>\n",
       "    <tr>\n",
       "      <td>25%</td>\n",
       "      <td>3.000000</td>\n",
       "    </tr>\n",
       "    <tr>\n",
       "      <td>50%</td>\n",
       "      <td>8.000000</td>\n",
       "    </tr>\n",
       "    <tr>\n",
       "      <td>75%</td>\n",
       "      <td>22.000000</td>\n",
       "    </tr>\n",
       "    <tr>\n",
       "      <td>max</td>\n",
       "      <td>200.000000</td>\n",
       "    </tr>\n",
       "  </tbody>\n",
       "</table>\n",
       "</div>"
      ],
      "text/plain": [
       "             rating\n",
       "count  53424.000000\n",
       "mean      18.345912\n",
       "std       26.237043\n",
       "min        1.000000\n",
       "25%        3.000000\n",
       "50%        8.000000\n",
       "75%       22.000000\n",
       "max      200.000000"
      ]
     },
     "execution_count": 986,
     "metadata": {},
     "output_type": "execute_result"
    }
   ],
   "source": [
    "user_reviews = ratings.groupby('user_id')[['rating']].count().sort_values(by='rating', ascending=False)\n",
    "user_reviews.describe()"
   ]
  },
  {
   "cell_type": "code",
   "execution_count": 987,
   "metadata": {
    "ExecuteTime": {
     "end_time": "2020-04-08T10:34:54.042537Z",
     "start_time": "2020-04-08T10:34:53.696910Z"
    }
   },
   "outputs": [
    {
     "data": {
      "image/png": "[encoded data removed]",
      "text/plain": [
       "<Figure size 432x288 with 1 Axes>"
      ]
     },
     "metadata": {
      "image/png": {
       "height": 275,
       "width": 407
      },
      "needs_background": "light"
     },
     "output_type": "display_data"
    }
   ],
   "source": [
    "user_reviews.hist();"
   ]
  },
  {
   "cell_type": "markdown",
   "metadata": {},
   "source": [
    "To cope with the computing power, I will reduce the dataset size. I will only include users that have rated minimum 80 reviews."
   ]
  },
  {
   "cell_type": "code",
   "execution_count": 988,
   "metadata": {
    "ExecuteTime": {
     "end_time": "2020-04-08T10:34:54.609372Z",
     "start_time": "2020-04-08T10:34:54.582606Z"
    }
   },
   "outputs": [
    {
     "name": "stdout",
     "output_type": "stream",
     "text": [
      "51362 users who rated less than 80 book reviews\n"
     ]
    }
   ],
   "source": [
    "print('{} users who rated less than 80 book reviews'.format((user_reviews<80).sum().sum()))"
   ]
  },
  {
   "cell_type": "code",
   "execution_count": 989,
   "metadata": {
    "ExecuteTime": {
     "end_time": "2020-04-08T10:34:55.238256Z",
     "start_time": "2020-04-08T10:34:55.181375Z"
    }
   },
   "outputs": [],
   "source": [
    "user_more80 = user_reviews[user_reviews['rating']>=80].reset_index()\n",
    "ratings_80 = ratings[ratings.user_id.isin(user_more80.user_id)]"
   ]
  },
  {
   "cell_type": "code",
   "execution_count": 990,
   "metadata": {
    "ExecuteTime": {
     "end_time": "2020-04-08T10:34:56.149653Z",
     "start_time": "2020-04-08T10:34:56.123316Z"
    }
   },
   "outputs": [
    {
     "data": {
      "text/plain": [
       "(242147, 3)"
      ]
     },
     "execution_count": 990,
     "metadata": {},
     "output_type": "execute_result"
    }
   ],
   "source": [
    "ratings_80.shape"
   ]
  },
  {
   "cell_type": "markdown",
   "metadata": {
    "ExecuteTime": {
     "end_time": "2020-03-30T12:02:02.211013Z",
     "start_time": "2020-03-30T12:02:02.194968Z"
    }
   },
   "source": [
    "**Book Reviews**\n",
    "- Most books have 25 reviews \n",
    "- As little as 1 review per book and at most 100."
   ]
  },
  {
   "cell_type": "code",
   "execution_count": 991,
   "metadata": {
    "ExecuteTime": {
     "end_time": "2020-04-08T10:34:57.396155Z",
     "start_time": "2020-04-08T10:34:57.334817Z"
    }
   },
   "outputs": [
    {
     "data": {
      "text/html": [
       "<div>\n",
       "<style scoped>\n",
       "    .dataframe tbody tr th:only-of-type {\n",
       "        vertical-align: middle;\n",
       "    }\n",
       "\n",
       "    .dataframe tbody tr th {\n",
       "        vertical-align: top;\n",
       "    }\n",
       "\n",
       "    .dataframe thead th {\n",
       "        text-align: right;\n",
       "    }\n",
       "</style>\n",
       "<table border=\"1\" class=\"dataframe\">\n",
       "  <thead>\n",
       "    <tr style=\"text-align: right;\">\n",
       "      <th></th>\n",
       "      <th>rating</th>\n",
       "    </tr>\n",
       "  </thead>\n",
       "  <tbody>\n",
       "    <tr>\n",
       "      <td>count</td>\n",
       "      <td>9675.000000</td>\n",
       "    </tr>\n",
       "    <tr>\n",
       "      <td>mean</td>\n",
       "      <td>25.028114</td>\n",
       "    </tr>\n",
       "    <tr>\n",
       "      <td>std</td>\n",
       "      <td>26.473215</td>\n",
       "    </tr>\n",
       "    <tr>\n",
       "      <td>min</td>\n",
       "      <td>1.000000</td>\n",
       "    </tr>\n",
       "    <tr>\n",
       "      <td>25%</td>\n",
       "      <td>6.000000</td>\n",
       "    </tr>\n",
       "    <tr>\n",
       "      <td>50%</td>\n",
       "      <td>14.000000</td>\n",
       "    </tr>\n",
       "    <tr>\n",
       "      <td>75%</td>\n",
       "      <td>33.000000</td>\n",
       "    </tr>\n",
       "    <tr>\n",
       "      <td>max</td>\n",
       "      <td>100.000000</td>\n",
       "    </tr>\n",
       "  </tbody>\n",
       "</table>\n",
       "</div>"
      ],
      "text/plain": [
       "            rating\n",
       "count  9675.000000\n",
       "mean     25.028114\n",
       "std      26.473215\n",
       "min       1.000000\n",
       "25%       6.000000\n",
       "50%      14.000000\n",
       "75%      33.000000\n",
       "max     100.000000"
      ]
     },
     "execution_count": 991,
     "metadata": {},
     "output_type": "execute_result"
    }
   ],
   "source": [
    "book_reviews = ratings_80.groupby('book_id')[['rating']].count().sort_values(by='rating')\n",
    "book_reviews.describe()"
   ]
  },
  {
   "cell_type": "code",
   "execution_count": 992,
   "metadata": {
    "ExecuteTime": {
     "end_time": "2020-04-08T10:34:58.516100Z",
     "start_time": "2020-04-08T10:34:58.251967Z"
    }
   },
   "outputs": [
    {
     "data": {
      "image/png": "[encoded data removed]",
      "text/plain": [
       "<Figure size 432x288 with 1 Axes>"
      ]
     },
     "metadata": {
      "image/png": {
       "height": 275,
       "width": 398
      },
      "needs_background": "light"
     },
     "output_type": "display_data"
    }
   ],
   "source": [
    "book_reviews.hist();"
   ]
  },
  {
   "cell_type": "markdown",
   "metadata": {},
   "source": [
    "To cope with the computing power, I will reduce the dataset size further. I will only include books that have minimum 30 reviews. "
   ]
  },
  {
   "cell_type": "code",
   "execution_count": 993,
   "metadata": {
    "ExecuteTime": {
     "end_time": "2020-04-08T10:34:59.723049Z",
     "start_time": "2020-04-08T10:34:59.704434Z"
    }
   },
   "outputs": [
    {
     "name": "stdout",
     "output_type": "stream",
     "text": [
      "6944 books that have been rated less than 30 times\n"
     ]
    }
   ],
   "source": [
    "print('{} books that have been rated less than 30 times'.format((book_reviews<30).sum().sum()))"
   ]
  },
  {
   "cell_type": "code",
   "execution_count": 994,
   "metadata": {
    "ExecuteTime": {
     "end_time": "2020-04-08T10:35:00.242819Z",
     "start_time": "2020-04-08T10:35:00.215961Z"
    }
   },
   "outputs": [],
   "source": [
    "book_more30 = book_reviews[book_reviews['rating']>=30].reset_index()\n",
    "ratings = ratings_80[ratings_80.user_id.isin(book_more30.book_id)]"
   ]
  },
  {
   "cell_type": "markdown",
   "metadata": {},
   "source": [
    "**Distribution of mean users** suggests no notorious downvoters and to rate above a 4 is less likely. "
   ]
  },
  {
   "cell_type": "code",
   "execution_count": 995,
   "metadata": {
    "ExecuteTime": {
     "end_time": "2020-04-08T10:35:01.664474Z",
     "start_time": "2020-04-08T10:35:01.159673Z"
    }
   },
   "outputs": [
    {
     "data": {
      "image/png": "[encoded data removed]",
      "text/plain": [
       "<Figure size 432x288 with 1 Axes>"
      ]
     },
     "metadata": {
      "image/png": {
       "height": 259,
       "width": 418
      },
      "needs_background": "light"
     },
     "output_type": "display_data"
    }
   ],
   "source": [
    "ratings.groupby('book_id')[['rating']].mean().sort_values(by='rating', ascending=False).plot(kind='hist', bins=10);"
   ]
  },
  {
   "cell_type": "code",
   "execution_count": 998,
   "metadata": {
    "ExecuteTime": {
     "end_time": "2020-04-08T10:38:32.579495Z",
     "start_time": "2020-04-08T10:38:32.490974Z"
    }
   },
   "outputs": [
    {
     "data": {
      "text/plain": [
       "(11215, 3)"
      ]
     },
     "execution_count": 998,
     "metadata": {},
     "output_type": "execute_result"
    }
   ],
   "source": [
    "ratings.shape"
   ]
  },
  {
   "cell_type": "markdown",
   "metadata": {},
   "source": [
    "Creating the utility matrix to visualise the sparsity. The NaNs imply that the user has not rated the corresponding book. "
   ]
  },
  {
   "cell_type": "code",
   "execution_count": 997,
   "metadata": {
    "ExecuteTime": {
     "end_time": "2020-04-08T10:35:05.579569Z",
     "start_time": "2020-04-08T10:35:05.469845Z"
    }
   },
   "outputs": [
    {
     "data": {
      "text/html": [
       "<div>\n",
       "<style scoped>\n",
       "    .dataframe tbody tr th:only-of-type {\n",
       "        vertical-align: middle;\n",
       "    }\n",
       "\n",
       "    .dataframe tbody tr th {\n",
       "        vertical-align: top;\n",
       "    }\n",
       "\n",
       "    .dataframe thead th {\n",
       "        text-align: right;\n",
       "    }\n",
       "</style>\n",
       "<table border=\"1\" class=\"dataframe\">\n",
       "  <thead>\n",
       "    <tr style=\"text-align: right;\">\n",
       "      <th>book_id</th>\n",
       "      <th>1</th>\n",
       "      <th>2</th>\n",
       "      <th>3</th>\n",
       "      <th>4</th>\n",
       "      <th>5</th>\n",
       "      <th>6</th>\n",
       "      <th>7</th>\n",
       "      <th>8</th>\n",
       "      <th>9</th>\n",
       "      <th>11</th>\n",
       "      <th>...</th>\n",
       "      <th>9946</th>\n",
       "      <th>9964</th>\n",
       "      <th>9966</th>\n",
       "      <th>9974</th>\n",
       "      <th>9977</th>\n",
       "      <th>9984</th>\n",
       "      <th>9990</th>\n",
       "      <th>9994</th>\n",
       "      <th>9995</th>\n",
       "      <th>9996</th>\n",
       "    </tr>\n",
       "    <tr>\n",
       "      <th>user_id</th>\n",
       "      <th></th>\n",
       "      <th></th>\n",
       "      <th></th>\n",
       "      <th></th>\n",
       "      <th></th>\n",
       "      <th></th>\n",
       "      <th></th>\n",
       "      <th></th>\n",
       "      <th></th>\n",
       "      <th></th>\n",
       "      <th></th>\n",
       "      <th></th>\n",
       "      <th></th>\n",
       "      <th></th>\n",
       "      <th></th>\n",
       "      <th></th>\n",
       "      <th></th>\n",
       "      <th></th>\n",
       "      <th></th>\n",
       "      <th></th>\n",
       "      <th></th>\n",
       "    </tr>\n",
       "  </thead>\n",
       "  <tbody>\n",
       "    <tr>\n",
       "      <td>35</td>\n",
       "      <td>NaN</td>\n",
       "      <td>NaN</td>\n",
       "      <td>NaN</td>\n",
       "      <td>NaN</td>\n",
       "      <td>NaN</td>\n",
       "      <td>NaN</td>\n",
       "      <td>NaN</td>\n",
       "      <td>NaN</td>\n",
       "      <td>NaN</td>\n",
       "      <td>NaN</td>\n",
       "      <td>...</td>\n",
       "      <td>NaN</td>\n",
       "      <td>NaN</td>\n",
       "      <td>NaN</td>\n",
       "      <td>NaN</td>\n",
       "      <td>NaN</td>\n",
       "      <td>NaN</td>\n",
       "      <td>NaN</td>\n",
       "      <td>NaN</td>\n",
       "      <td>NaN</td>\n",
       "      <td>NaN</td>\n",
       "    </tr>\n",
       "    <tr>\n",
       "      <td>153</td>\n",
       "      <td>NaN</td>\n",
       "      <td>NaN</td>\n",
       "      <td>NaN</td>\n",
       "      <td>NaN</td>\n",
       "      <td>NaN</td>\n",
       "      <td>NaN</td>\n",
       "      <td>NaN</td>\n",
       "      <td>NaN</td>\n",
       "      <td>NaN</td>\n",
       "      <td>NaN</td>\n",
       "      <td>...</td>\n",
       "      <td>NaN</td>\n",
       "      <td>NaN</td>\n",
       "      <td>NaN</td>\n",
       "      <td>3.0</td>\n",
       "      <td>NaN</td>\n",
       "      <td>NaN</td>\n",
       "      <td>NaN</td>\n",
       "      <td>NaN</td>\n",
       "      <td>NaN</td>\n",
       "      <td>NaN</td>\n",
       "    </tr>\n",
       "    <tr>\n",
       "      <td>173</td>\n",
       "      <td>NaN</td>\n",
       "      <td>NaN</td>\n",
       "      <td>NaN</td>\n",
       "      <td>NaN</td>\n",
       "      <td>NaN</td>\n",
       "      <td>5.0</td>\n",
       "      <td>NaN</td>\n",
       "      <td>NaN</td>\n",
       "      <td>NaN</td>\n",
       "      <td>NaN</td>\n",
       "      <td>...</td>\n",
       "      <td>NaN</td>\n",
       "      <td>NaN</td>\n",
       "      <td>NaN</td>\n",
       "      <td>NaN</td>\n",
       "      <td>NaN</td>\n",
       "      <td>NaN</td>\n",
       "      <td>NaN</td>\n",
       "      <td>NaN</td>\n",
       "      <td>NaN</td>\n",
       "      <td>NaN</td>\n",
       "    </tr>\n",
       "    <tr>\n",
       "      <td>178</td>\n",
       "      <td>NaN</td>\n",
       "      <td>NaN</td>\n",
       "      <td>NaN</td>\n",
       "      <td>NaN</td>\n",
       "      <td>NaN</td>\n",
       "      <td>NaN</td>\n",
       "      <td>NaN</td>\n",
       "      <td>NaN</td>\n",
       "      <td>NaN</td>\n",
       "      <td>NaN</td>\n",
       "      <td>...</td>\n",
       "      <td>NaN</td>\n",
       "      <td>NaN</td>\n",
       "      <td>NaN</td>\n",
       "      <td>NaN</td>\n",
       "      <td>NaN</td>\n",
       "      <td>NaN</td>\n",
       "      <td>NaN</td>\n",
       "      <td>NaN</td>\n",
       "      <td>NaN</td>\n",
       "      <td>NaN</td>\n",
       "    </tr>\n",
       "    <tr>\n",
       "      <td>274</td>\n",
       "      <td>NaN</td>\n",
       "      <td>NaN</td>\n",
       "      <td>NaN</td>\n",
       "      <td>NaN</td>\n",
       "      <td>NaN</td>\n",
       "      <td>NaN</td>\n",
       "      <td>NaN</td>\n",
       "      <td>NaN</td>\n",
       "      <td>NaN</td>\n",
       "      <td>NaN</td>\n",
       "      <td>...</td>\n",
       "      <td>NaN</td>\n",
       "      <td>NaN</td>\n",
       "      <td>5.0</td>\n",
       "      <td>NaN</td>\n",
       "      <td>NaN</td>\n",
       "      <td>NaN</td>\n",
       "      <td>NaN</td>\n",
       "      <td>NaN</td>\n",
       "      <td>NaN</td>\n",
       "      <td>NaN</td>\n",
       "    </tr>\n",
       "  </tbody>\n",
       "</table>\n",
       "<p>5 rows × 4397 columns</p>\n",
       "</div>"
      ],
      "text/plain": [
       "book_id  1     2     3     4     5     6     7     8     9     11    ...  \\\n",
       "user_id                                                              ...   \n",
       "35        NaN   NaN   NaN   NaN   NaN   NaN   NaN   NaN   NaN   NaN  ...   \n",
       "153       NaN   NaN   NaN   NaN   NaN   NaN   NaN   NaN   NaN   NaN  ...   \n",
       "173       NaN   NaN   NaN   NaN   NaN   5.0   NaN   NaN   NaN   NaN  ...   \n",
       "178       NaN   NaN   NaN   NaN   NaN   NaN   NaN   NaN   NaN   NaN  ...   \n",
       "274       NaN   NaN   NaN   NaN   NaN   NaN   NaN   NaN   NaN   NaN  ...   \n",
       "\n",
       "book_id  9946  9964  9966  9974  9977  9984  9990  9994  9995  9996  \n",
       "user_id                                                              \n",
       "35        NaN   NaN   NaN   NaN   NaN   NaN   NaN   NaN   NaN   NaN  \n",
       "153       NaN   NaN   NaN   3.0   NaN   NaN   NaN   NaN   NaN   NaN  \n",
       "173       NaN   NaN   NaN   NaN   NaN   NaN   NaN   NaN   NaN   NaN  \n",
       "178       NaN   NaN   NaN   NaN   NaN   NaN   NaN   NaN   NaN   NaN  \n",
       "274       NaN   NaN   5.0   NaN   NaN   NaN   NaN   NaN   NaN   NaN  \n",
       "\n",
       "[5 rows x 4397 columns]"
      ]
     },
     "execution_count": 997,
     "metadata": {},
     "output_type": "execute_result"
    }
   ],
   "source": [
    "index=sorted(list(ratings['user_id'].unique()))\n",
    "columns=sorted(list(ratings['book_id'].unique()))\n",
    "util_df=pd.pivot_table(data=ratings[:100000],values='rating',index='user_id',columns='book_id')\n",
    "util_df.head()"
   ]
  },
  {
   "cell_type": "markdown",
   "metadata": {},
   "source": [
    "# Modelling"
   ]
  },
  {
   "cell_type": "markdown",
   "metadata": {},
   "source": [
    "## Collaberative filtering "
   ]
  },
  {
   "cell_type": "markdown",
   "metadata": {},
   "source": [
    "**I am going to start with collaberative filtering which focuses on finding users who have given similar ratings to the same books.**\n",
    "\n",
    "* Provides strong predictive power and recquires very little information\n",
    "\n",
    "\n",
    "* Underlying tastes of books expressed by latent features are not interpretable because there is no content-related properties of metadata. \n",
    "* Cold-start issue; when a new book is added, until it has been rated by a substantial number of users, the model is not able to make any personalized reccomendations. \n",
    "* The long tail issue: The more popular books are weighted more heavily and tend to be reccomended more. "
   ]
  },
  {
   "cell_type": "markdown",
   "metadata": {},
   "source": [
    "The reader function serves to specify which columns are referring to user, items and ratings."
   ]
  },
  {
   "cell_type": "code",
   "execution_count": 1002,
   "metadata": {
    "ExecuteTime": {
     "end_time": "2020-04-08T10:38:53.745361Z",
     "start_time": "2020-04-08T10:38:53.709799Z"
    }
   },
   "outputs": [],
   "source": [
    "reader = sur.Reader(rating_scale=(1, 5))"
   ]
  },
  {
   "cell_type": "code",
   "execution_count": 1003,
   "metadata": {
    "ExecuteTime": {
     "end_time": "2020-04-08T10:38:55.197441Z",
     "start_time": "2020-04-08T10:38:55.100002Z"
    }
   },
   "outputs": [],
   "source": [
    "data = sur.Dataset.load_from_df(\n",
    "    ratings[['user_id', 'book_id', 'rating']], reader)"
   ]
  },
  {
   "cell_type": "markdown",
   "metadata": {},
   "source": [
    "**Two different approaches to collab filtering**\n",
    "\n",
    "\n",
    "**Model based approaches:** SVD and NMF\n",
    "- Easy creation and explanation of results \n",
    "- Performance reduces when data is sparse (data is non scalable) \n",
    "- This deals with sparse/missing data well due to dimensionality reduction\n",
    "- Inference is intractable due to hidden/latent features. \n",
    "\n",
    "**Memory based approaches**: KNN and slope one model\n",
    "- Easy creation and explanation of results \n",
    "- Performance reduces when data is sparse (data is non scalable) "
   ]
  },
  {
   "cell_type": "code",
   "execution_count": 623,
   "metadata": {
    "ExecuteTime": {
     "end_time": "2020-04-07T09:07:38.921079Z",
     "start_time": "2020-04-07T09:07:38.884252Z"
    }
   },
   "outputs": [],
   "source": [
    "#setting random seed so algo comes out with consistent results \n",
    "my_seed = 1\n",
    "random.seed(my_seed)\n",
    "np.random.seed(my_seed)"
   ]
  },
  {
   "cell_type": "code",
   "execution_count": 1026,
   "metadata": {
    "ExecuteTime": {
     "end_time": "2020-04-08T11:20:26.027893Z",
     "start_time": "2020-04-08T11:20:17.848724Z"
    }
   },
   "outputs": [
    {
     "name": "stdout",
     "output_type": "stream",
     "text": [
      "Computing the msd similarity matrix...\n",
      "Done computing similarity matrix.\n",
      "Computing the msd similarity matrix...\n",
      "Done computing similarity matrix.\n",
      "Computing the msd similarity matrix...\n",
      "Done computing similarity matrix.\n"
     ]
    }
   ],
   "source": [
    "np.random.seed(my_seed)\n",
    "\n",
    "benchmark = []\n",
    "for algorithm in [sur.SVD(),sur.NMF(), sur.SlopeOne(), sur.KNNWithMeans()]:\n",
    "    results = sur.model_selection.cross_validate(algorithm, data, measures=['RMSE'], cv=3, verbose=False)\n",
    "    tmp = pd.DataFrame.from_dict(results).mean(axis=0)\n",
    "    tmp = tmp.append(pd.Series([str(algorithm).split(' ')[0].split('.')[-1]],index=['Algorithm']))\n",
    "    benchmark.append(tmp)"
   ]
  },
  {
   "cell_type": "code",
   "execution_count": 1027,
   "metadata": {
    "ExecuteTime": {
     "end_time": "2020-04-08T11:20:26.069092Z",
     "start_time": "2020-04-08T11:20:26.034365Z"
    }
   },
   "outputs": [
    {
     "data": {
      "text/html": [
       "<div>\n",
       "<style scoped>\n",
       "    .dataframe tbody tr th:only-of-type {\n",
       "        vertical-align: middle;\n",
       "    }\n",
       "\n",
       "    .dataframe tbody tr th {\n",
       "        vertical-align: top;\n",
       "    }\n",
       "\n",
       "    .dataframe thead th {\n",
       "        text-align: right;\n",
       "    }\n",
       "</style>\n",
       "<table border=\"1\" class=\"dataframe\">\n",
       "  <thead>\n",
       "    <tr style=\"text-align: right;\">\n",
       "      <th></th>\n",
       "      <th>test_rmse</th>\n",
       "      <th>fit_time</th>\n",
       "      <th>test_time</th>\n",
       "      <th>Algorithm</th>\n",
       "    </tr>\n",
       "  </thead>\n",
       "  <tbody>\n",
       "    <tr>\n",
       "      <td>0</td>\n",
       "      <td>0.896374</td>\n",
       "      <td>0.728737</td>\n",
       "      <td>0.052681</td>\n",
       "      <td>SVD</td>\n",
       "    </tr>\n",
       "    <tr>\n",
       "      <td>1</td>\n",
       "      <td>1.092833</td>\n",
       "      <td>0.987735</td>\n",
       "      <td>0.030802</td>\n",
       "      <td>NMF</td>\n",
       "    </tr>\n",
       "    <tr>\n",
       "      <td>2</td>\n",
       "      <td>1.049570</td>\n",
       "      <td>0.538278</td>\n",
       "      <td>0.194376</td>\n",
       "      <td>SlopeOne</td>\n",
       "    </tr>\n",
       "    <tr>\n",
       "      <td>3</td>\n",
       "      <td>1.011268</td>\n",
       "      <td>0.008387</td>\n",
       "      <td>0.047855</td>\n",
       "      <td>KNNWithMeans</td>\n",
       "    </tr>\n",
       "  </tbody>\n",
       "</table>\n",
       "</div>"
      ],
      "text/plain": [
       "   test_rmse  fit_time  test_time     Algorithm\n",
       "0   0.896374  0.728737   0.052681           SVD\n",
       "1   1.092833  0.987735   0.030802           NMF\n",
       "2   1.049570  0.538278   0.194376      SlopeOne\n",
       "3   1.011268  0.008387   0.047855  KNNWithMeans"
      ]
     },
     "execution_count": 1027,
     "metadata": {},
     "output_type": "execute_result"
    }
   ],
   "source": [
    "pd.DataFrame(benchmark)"
   ]
  },
  {
   "cell_type": "markdown",
   "metadata": {},
   "source": [
    "**Plot comparisions of RMSE in different model approaches**"
   ]
  },
  {
   "cell_type": "code",
   "execution_count": 1028,
   "metadata": {
    "ExecuteTime": {
     "end_time": "2020-04-08T11:22:39.080301Z",
     "start_time": "2020-04-08T11:22:38.704819Z"
    }
   },
   "outputs": [
    {
     "data": {
      "image/png": "[encoded data removed]",
      "text/plain": [
       "<Figure size 432x288 with 1 Axes>"
      ]
     },
     "metadata": {
      "image/png": {
       "height": 283,
       "width": 420
      },
      "needs_background": "light"
     },
     "output_type": "display_data"
    }
   ],
   "source": [
    "mses = [.89, 1.09, 1.01, 1.04]\n",
    "algos = ['SVD', \"NMF\",  'KNN','slope1']\n",
    "plt.plot(algos, mses, 'go',  )\n",
    "plt.xlabel(\"Different algos\")\n",
    "plt.ylabel(\"RMSE\")\n",
    "plt.show()"
   ]
  },
  {
   "cell_type": "markdown",
   "metadata": {},
   "source": [
    "SVD performs the best as it has the smallest RMSE value - I will tune the hyperparemeters of SVD. "
   ]
  },
  {
   "cell_type": "code",
   "execution_count": 1029,
   "metadata": {
    "ExecuteTime": {
     "end_time": "2020-04-08T11:23:52.951523Z",
     "start_time": "2020-04-08T11:23:52.852765Z"
    }
   },
   "outputs": [],
   "source": [
    "raw_ratings = data.raw_ratings\n",
    "np.random.seed(1)\n",
    "random.shuffle(raw_ratings)\n",
    "\n",
    "threshold = int(.9 * len(raw_ratings))\n",
    "A_raw_ratings = raw_ratings[:threshold]\n",
    "B_raw_ratings = raw_ratings[threshold:]\n",
    "\n",
    "data.raw_ratings = A_raw_ratings"
   ]
  },
  {
   "cell_type": "markdown",
   "metadata": {},
   "source": [
    "Select the best algo with a grid search"
   ]
  },
  {
   "cell_type": "code",
   "execution_count": 1035,
   "metadata": {
    "ExecuteTime": {
     "end_time": "2020-04-08T11:37:59.692197Z",
     "start_time": "2020-04-08T11:37:18.272090Z"
    }
   },
   "outputs": [
    {
     "name": "stdout",
     "output_type": "stream",
     "text": [
      "Grid Search...\n",
      "{'n_factors': 25, 'reg_all': 0.08, 'n_epochs': 15, 'lr_all': 0.01}\n",
      "Training score    RMSE: 0.7336\n",
      "Test score (rated items)  RMSE: 0.8932\n",
      "Test score (unrated items)    "
     ]
    },
    {
     "data": {
      "text/plain": [
       "0.4115558430183793"
      ]
     },
     "execution_count": 1035,
     "metadata": {},
     "output_type": "execute_result"
    }
   ],
   "source": [
    "np.random.seed(my_seed)\n",
    "\n",
    "print('Grid Search...')\n",
    "param_grid = {'n_factors': [20, 25, 30], \n",
    "              'reg_all': [0.08, 0.1, 0.13, 0.15],\n",
    "                'n_epochs': [5, 10,15], \n",
    "                 'lr_all': [0.005, 0.01]}\n",
    "grid_search = sur.model_selection.GridSearchCV(sur.SVD,\n",
    "                                               param_grid,\n",
    "                                               measures=['rmse'],\n",
    "                                               cv=3,\n",
    "                                               refit=True)\n",
    "grid_search.fit(data)\n",
    "print(grid_search.best_params['rmse'])\n",
    "\n",
    "algo = grid_search.best_estimator['rmse']\n",
    "\n",
    "trainset = data.build_full_trainset()\n",
    "algo.fit(trainset)\n",
    "\n",
    "trainset_build = trainset.build_testset()\n",
    "predictions_train = algo.test(trainset_build)\n",
    "print('Training score ', end='   ')\n",
    "sur.accuracy.rmse(predictions_train)\n",
    "\n",
    "testset = data.construct_testset(B_raw_ratings)  \n",
    "predictions_test_best = algo.test(testset)\n",
    "print('Test score (rated items) ', end=' ')\n",
    "sur.accuracy.rmse(predictions_test_best)\n",
    "\n",
    "no_ratings = trainset.build_anti_testset()\n",
    "predictions_no_ratings = algo.test(no_ratings)\n",
    "print('Test score (unrated items) ', end='   ')\n",
    "sur.accuracy.rmse(predictions_no_ratings, verbose=False)"
   ]
  },
  {
   "cell_type": "markdown",
   "metadata": {},
   "source": [
    "**Output: optimised RMSE score is 0.8932**"
   ]
  },
  {
   "cell_type": "markdown",
   "metadata": {},
   "source": [
    "I will use these SVD predictions to return the top 10 rated books per user"
   ]
  },
  {
   "cell_type": "code",
   "execution_count": 1036,
   "metadata": {
    "ExecuteTime": {
     "end_time": "2020-04-08T11:45:54.238343Z",
     "start_time": "2020-04-08T11:45:54.180029Z"
    }
   },
   "outputs": [],
   "source": [
    "def get_recommendations(predictions, topN, user):\n",
    "    top_recs = defaultdict(list)\n",
    "    for uid, iid, true_r, est, _ in predictions:\n",
    "        top_recs[uid].append((iid, est))\n",
    "     \n",
    "    for uid, user_ratings in top_recs.items():\n",
    "        user_ratings.sort(key = lambda x: x[1], reverse = True)\n",
    "        top_recs[uid] = user_ratings[:topN]  \n",
    "    \n",
    "    top_n_list = []\n",
    "    for key in top_recs.keys():\n",
    "        for val in top_recs[key]:\n",
    "            top_n_list.append([key, val[0], val[1]])\n",
    "\n",
    "    df_top = pd.DataFrame(top_n_list, columns=['users', 'id', 'est'])\n",
    "    \n",
    "    df_top = pd.merge(df_top, books[['id', 'original_title', 'authors']], on='id', how='left')\n",
    "    df_top.dropna(inplace=True)\n",
    "    subset_user = df_top[df_top['users'] == user]\n",
    "    return subset_user"
   ]
  },
  {
   "cell_type": "code",
   "execution_count": 1037,
   "metadata": {
    "ExecuteTime": {
     "end_time": "2020-04-08T11:45:55.502420Z",
     "start_time": "2020-04-08T11:45:55.299534Z"
    }
   },
   "outputs": [
    {
     "data": {
      "text/html": [
       "<div>\n",
       "<style scoped>\n",
       "    .dataframe tbody tr th:only-of-type {\n",
       "        vertical-align: middle;\n",
       "    }\n",
       "\n",
       "    .dataframe tbody tr th {\n",
       "        vertical-align: top;\n",
       "    }\n",
       "\n",
       "    .dataframe thead th {\n",
       "        text-align: right;\n",
       "    }\n",
       "</style>\n",
       "<table border=\"1\" class=\"dataframe\">\n",
       "  <thead>\n",
       "    <tr style=\"text-align: right;\">\n",
       "      <th></th>\n",
       "      <th>users</th>\n",
       "      <th>id</th>\n",
       "      <th>est</th>\n",
       "      <th>original_title</th>\n",
       "      <th>authors</th>\n",
       "    </tr>\n",
       "  </thead>\n",
       "  <tbody>\n",
       "    <tr>\n",
       "      <td>354</td>\n",
       "      <td>2066</td>\n",
       "      <td>165</td>\n",
       "      <td>3.658330</td>\n",
       "      <td>A Feast for Crows</td>\n",
       "      <td>George R.R. Martin</td>\n",
       "    </tr>\n",
       "    <tr>\n",
       "      <td>355</td>\n",
       "      <td>2066</td>\n",
       "      <td>2449</td>\n",
       "      <td>3.459412</td>\n",
       "      <td>The Imperfectionists</td>\n",
       "      <td>Tom Rachman</td>\n",
       "    </tr>\n",
       "    <tr>\n",
       "      <td>356</td>\n",
       "      <td>2066</td>\n",
       "      <td>880</td>\n",
       "      <td>3.410885</td>\n",
       "      <td>The Summoning</td>\n",
       "      <td>Kelley Armstrong</td>\n",
       "    </tr>\n",
       "    <tr>\n",
       "      <td>357</td>\n",
       "      <td>2066</td>\n",
       "      <td>7617</td>\n",
       "      <td>3.360444</td>\n",
       "      <td>Dragon's Oath</td>\n",
       "      <td>P.C. Cast, Kristin Cast</td>\n",
       "    </tr>\n",
       "    <tr>\n",
       "      <td>358</td>\n",
       "      <td>2066</td>\n",
       "      <td>981</td>\n",
       "      <td>3.360444</td>\n",
       "      <td>Blue Bloods</td>\n",
       "      <td>Melissa de la Cruz</td>\n",
       "    </tr>\n",
       "    <tr>\n",
       "      <td>359</td>\n",
       "      <td>2066</td>\n",
       "      <td>2593</td>\n",
       "      <td>3.360444</td>\n",
       "      <td>Stargazer</td>\n",
       "      <td>Claudia Gray</td>\n",
       "    </tr>\n",
       "    <tr>\n",
       "      <td>360</td>\n",
       "      <td>2066</td>\n",
       "      <td>518</td>\n",
       "      <td>3.284410</td>\n",
       "      <td>Peter Pan</td>\n",
       "      <td>J.M. Barrie, Michael Hague</td>\n",
       "    </tr>\n",
       "    <tr>\n",
       "      <td>361</td>\n",
       "      <td>2066</td>\n",
       "      <td>187</td>\n",
       "      <td>3.268961</td>\n",
       "      <td>Uglies</td>\n",
       "      <td>Scott Westerfeld</td>\n",
       "    </tr>\n",
       "    <tr>\n",
       "      <td>362</td>\n",
       "      <td>2066</td>\n",
       "      <td>134</td>\n",
       "      <td>3.183707</td>\n",
       "      <td>City of Glass</td>\n",
       "      <td>Cassandra Clare</td>\n",
       "    </tr>\n",
       "    <tr>\n",
       "      <td>363</td>\n",
       "      <td>2066</td>\n",
       "      <td>833</td>\n",
       "      <td>2.870941</td>\n",
       "      <td>The Chamber</td>\n",
       "      <td>John Grisham</td>\n",
       "    </tr>\n",
       "  </tbody>\n",
       "</table>\n",
       "</div>"
      ],
      "text/plain": [
       "     users    id       est        original_title                     authors\n",
       "354   2066   165  3.658330     A Feast for Crows          George R.R. Martin\n",
       "355   2066  2449  3.459412  The Imperfectionists                 Tom Rachman\n",
       "356   2066   880  3.410885         The Summoning            Kelley Armstrong\n",
       "357   2066  7617  3.360444         Dragon's Oath     P.C. Cast, Kristin Cast\n",
       "358   2066   981  3.360444           Blue Bloods          Melissa de la Cruz\n",
       "359   2066  2593  3.360444             Stargazer                Claudia Gray\n",
       "360   2066   518  3.284410             Peter Pan  J.M. Barrie, Michael Hague\n",
       "361   2066   187  3.268961                Uglies            Scott Westerfeld\n",
       "362   2066   134  3.183707         City of Glass             Cassandra Clare\n",
       "363   2066   833  2.870941           The Chamber                John Grisham"
      ]
     },
     "execution_count": 1037,
     "metadata": {},
     "output_type": "execute_result"
    }
   ],
   "source": [
    "get_recommendations(predictions_test_best, 10, 2066)"
   ]
  },
  {
   "cell_type": "markdown",
   "metadata": {},
   "source": [
    "**These books are all fiction books, typically with an overriding theme of fantasy. They have been adapted into either a Television Series or Film**"
   ]
  },
  {
   "cell_type": "code",
   "execution_count": 1038,
   "metadata": {
    "ExecuteTime": {
     "end_time": "2020-04-08T11:45:59.122427Z",
     "start_time": "2020-04-08T11:45:59.021248Z"
    }
   },
   "outputs": [
    {
     "data": {
      "text/html": [
       "<div>\n",
       "<style scoped>\n",
       "    .dataframe tbody tr th:only-of-type {\n",
       "        vertical-align: middle;\n",
       "    }\n",
       "\n",
       "    .dataframe tbody tr th {\n",
       "        vertical-align: top;\n",
       "    }\n",
       "\n",
       "    .dataframe thead th {\n",
       "        text-align: right;\n",
       "    }\n",
       "</style>\n",
       "<table border=\"1\" class=\"dataframe\">\n",
       "  <thead>\n",
       "    <tr style=\"text-align: right;\">\n",
       "      <th></th>\n",
       "      <th>users</th>\n",
       "      <th>id</th>\n",
       "      <th>est</th>\n",
       "      <th>original_title</th>\n",
       "      <th>authors</th>\n",
       "    </tr>\n",
       "  </thead>\n",
       "  <tbody>\n",
       "    <tr>\n",
       "      <td>750</td>\n",
       "      <td>368</td>\n",
       "      <td>1275</td>\n",
       "      <td>3.460285</td>\n",
       "      <td>An Echo in the Bone</td>\n",
       "      <td>Diana Gabaldon</td>\n",
       "    </tr>\n",
       "    <tr>\n",
       "      <td>751</td>\n",
       "      <td>368</td>\n",
       "      <td>758</td>\n",
       "      <td>3.435194</td>\n",
       "      <td>Stiff: The Curious Lives of Human Cadavers</td>\n",
       "      <td>Mary Roach</td>\n",
       "    </tr>\n",
       "    <tr>\n",
       "      <td>752</td>\n",
       "      <td>368</td>\n",
       "      <td>2632</td>\n",
       "      <td>3.422112</td>\n",
       "      <td>The Sparrow</td>\n",
       "      <td>Mary Doria Russell</td>\n",
       "    </tr>\n",
       "    <tr>\n",
       "      <td>753</td>\n",
       "      <td>368</td>\n",
       "      <td>312</td>\n",
       "      <td>3.310958</td>\n",
       "      <td>The Graveyard Book</td>\n",
       "      <td>Neil Gaiman, Dave McKean</td>\n",
       "    </tr>\n",
       "    <tr>\n",
       "      <td>754</td>\n",
       "      <td>368</td>\n",
       "      <td>1704</td>\n",
       "      <td>3.266216</td>\n",
       "      <td>Mother Night</td>\n",
       "      <td>Kurt Vonnegut Jr.</td>\n",
       "    </tr>\n",
       "    <tr>\n",
       "      <td>755</td>\n",
       "      <td>368</td>\n",
       "      <td>1231</td>\n",
       "      <td>3.220327</td>\n",
       "      <td>Loving Frank</td>\n",
       "      <td>Nancy Horan</td>\n",
       "    </tr>\n",
       "    <tr>\n",
       "      <td>756</td>\n",
       "      <td>368</td>\n",
       "      <td>405</td>\n",
       "      <td>3.215975</td>\n",
       "      <td>Breakfast of Champions</td>\n",
       "      <td>Kurt Vonnegut Jr.</td>\n",
       "    </tr>\n",
       "    <tr>\n",
       "      <td>757</td>\n",
       "      <td>368</td>\n",
       "      <td>638</td>\n",
       "      <td>3.175420</td>\n",
       "      <td>A Visit From the Goon Squad</td>\n",
       "      <td>Jennifer Egan</td>\n",
       "    </tr>\n",
       "    <tr>\n",
       "      <td>758</td>\n",
       "      <td>368</td>\n",
       "      <td>1441</td>\n",
       "      <td>3.174210</td>\n",
       "      <td>My Life in France</td>\n",
       "      <td>Julia Child, Alex Prud'Homme</td>\n",
       "    </tr>\n",
       "    <tr>\n",
       "      <td>759</td>\n",
       "      <td>368</td>\n",
       "      <td>687</td>\n",
       "      <td>3.174210</td>\n",
       "      <td>1776</td>\n",
       "      <td>David McCullough</td>\n",
       "    </tr>\n",
       "  </tbody>\n",
       "</table>\n",
       "</div>"
      ],
      "text/plain": [
       "     users    id       est                              original_title  \\\n",
       "750    368  1275  3.460285                         An Echo in the Bone   \n",
       "751    368   758  3.435194  Stiff: The Curious Lives of Human Cadavers   \n",
       "752    368  2632  3.422112                                 The Sparrow   \n",
       "753    368   312  3.310958                          The Graveyard Book   \n",
       "754    368  1704  3.266216                                Mother Night   \n",
       "755    368  1231  3.220327                                Loving Frank   \n",
       "756    368   405  3.215975                      Breakfast of Champions   \n",
       "757    368   638  3.175420                 A Visit From the Goon Squad   \n",
       "758    368  1441  3.174210                           My Life in France   \n",
       "759    368   687  3.174210                                        1776   \n",
       "\n",
       "                          authors  \n",
       "750                Diana Gabaldon  \n",
       "751                    Mary Roach  \n",
       "752            Mary Doria Russell  \n",
       "753      Neil Gaiman, Dave McKean  \n",
       "754             Kurt Vonnegut Jr.  \n",
       "755                   Nancy Horan  \n",
       "756             Kurt Vonnegut Jr.  \n",
       "757                 Jennifer Egan  \n",
       "758  Julia Child, Alex Prud'Homme  \n",
       "759              David McCullough  "
      ]
     },
     "execution_count": 1038,
     "metadata": {},
     "output_type": "execute_result"
    }
   ],
   "source": [
    "get_recommendations(predictions_test_best, 10, 368)"
   ]
  },
  {
   "cell_type": "markdown",
   "metadata": {},
   "source": [
    "**Overall, these books are novels, set with some degrees of realism, exploring historical and psycholgical fiction.** "
   ]
  },
  {
   "cell_type": "markdown",
   "metadata": {},
   "source": [
    "## Content filtering\n",
    "\n",
    "Many ways to peform content based filtering: determine how similar a pair of items are based on their metadata tags.\n",
    "\n",
    "- NLP techniques; analysing the descriptions of movies using TF-IDF or topic modeling to define a measure of similarity (using cosine or jaccard similarity) \n",
    "- Machine learning; classification models"
   ]
  },
  {
   "cell_type": "markdown",
   "metadata": {},
   "source": [
    "First, I will focus on using NLP techniques"
   ]
  },
  {
   "cell_type": "code",
   "execution_count": 1039,
   "metadata": {
    "ExecuteTime": {
     "end_time": "2020-04-08T11:51:49.286262Z",
     "start_time": "2020-04-08T11:51:45.723528Z"
    }
   },
   "outputs": [],
   "source": [
    "books_with_tags = pd.merge(books, tags_join_DF, left_on='book_id', right_on='goodreads_book_id', how='inner')"
   ]
  },
  {
   "cell_type": "code",
   "execution_count": 1040,
   "metadata": {
    "ExecuteTime": {
     "end_time": "2020-04-08T11:51:52.707759Z",
     "start_time": "2020-04-08T11:51:49.290488Z"
    }
   },
   "outputs": [],
   "source": [
    "temp_df = books_with_tags.groupby('book_id')['tag_name'].apply(' '.join).reset_index()"
   ]
  },
  {
   "cell_type": "code",
   "execution_count": 1041,
   "metadata": {
    "ExecuteTime": {
     "end_time": "2020-04-08T11:51:52.763824Z",
     "start_time": "2020-04-08T11:51:52.712318Z"
    }
   },
   "outputs": [],
   "source": [
    "books= pd.merge(books, temp_df, left_on='book_id', right_on='book_id', how='inner')"
   ]
  },
  {
   "cell_type": "markdown",
   "metadata": {},
   "source": [
    "Recommend books using the cosine similarity scores of a corpus containing book authors and book tags."
   ]
  },
  {
   "cell_type": "code",
   "execution_count": 1042,
   "metadata": {
    "ExecuteTime": {
     "end_time": "2020-04-08T11:51:52.891799Z",
     "start_time": "2020-04-08T11:51:52.796275Z"
    }
   },
   "outputs": [],
   "source": [
    "books['corpus'] = (pd.Series(books[['authors', 'tag_name']]\n",
    "                .fillna('')\n",
    "                .values.tolist()\n",
    "                ).str.join(' '))"
   ]
  },
  {
   "cell_type": "code",
   "execution_count": 1043,
   "metadata": {
    "ExecuteTime": {
     "end_time": "2020-04-08T11:52:31.621082Z",
     "start_time": "2020-04-08T11:51:52.897986Z"
    }
   },
   "outputs": [],
   "source": [
    "tf_corpus = TfidfVectorizer(ngram_range=(1, 3),min_df=0, stop_words='english')\n",
    "tfidf_matrix_corpus = tf_corpus.fit_transform(books['corpus'])\n",
    "cosine_sim_corpus = linear_kernel(tfidf_matrix_corpus, tfidf_matrix_corpus)"
   ]
  },
  {
   "cell_type": "markdown",
   "metadata": {},
   "source": [
    "Recommend the 20 most similar books"
   ]
  },
  {
   "cell_type": "code",
   "execution_count": 1044,
   "metadata": {
    "ExecuteTime": {
     "end_time": "2020-04-08T11:52:31.827628Z",
     "start_time": "2020-04-08T11:52:31.648379Z"
    }
   },
   "outputs": [],
   "source": [
    "titles = books['title']\n",
    "indices = pd.Series(books.index, index=books['title'])\n",
    "authors = books['authors']\n",
    "\n",
    "def corpus_recommendations(title, num_recs):\n",
    "    \n",
    "    idx = indices[title]\n",
    "    sim_scores = list(enumerate(cosine_sim_corpus[idx]))\n",
    "    sim_scores = sorted(sim_scores, key=lambda x: x[1], reverse=True)\n",
    "    sim_scores = sim_scores[1:num_recs]\n",
    "    book_indices = [i[0] for i in sim_scores]\n",
    "    \n",
    "    return list(zip(titles.iloc[book_indices], authors.iloc[book_indices]))"
   ]
  },
  {
   "cell_type": "code",
   "execution_count": 1045,
   "metadata": {
    "ExecuteTime": {
     "end_time": "2020-04-08T11:52:32.092716Z",
     "start_time": "2020-04-08T11:52:31.847609Z"
    }
   },
   "outputs": [
    {
     "data": {
      "text/plain": [
       "[('The Lord of the Rings (The Lord of the Rings, #1-3)', 'J.R.R. Tolkien'),\n",
       " ('The Two Towers (The Lord of the Rings, #2)', 'J.R.R. Tolkien'),\n",
       " ('The Return of the King (The Lord of the Rings, #3)', 'J.R.R. Tolkien'),\n",
       " ('The Fellowship of the Ring (The Lord of the Rings, #1)', 'J.R.R. Tolkien'),\n",
       " ('The Silmarillion (Middle-Earth Universe)',\n",
       "  'J.R.R. Tolkien, Christopher Tolkien, Ted Nasmith'),\n",
       " ('Unfinished Tales of Númenor and Middle-Earth',\n",
       "  'J.R.R. Tolkien, Christopher Tolkien'),\n",
       " ('The Children of Húrin', 'J.R.R. Tolkien, Christopher Tolkien, Alan Lee'),\n",
       " ('J.R.R. Tolkien 4-Book Boxed Set: The Hobbit and The Lord of the Rings',\n",
       "  'J.R.R. Tolkien'),\n",
       " ('The Hobbit: Graphic Novel',\n",
       "  'Chuck Dixon, J.R.R. Tolkien, David Wenzel, Sean Deming'),\n",
       " ('The Once and Future King (The Once and Future King #1-4)', 'T.H. White'),\n",
       " ('The Subtle Knife (His Dark Materials, #2)', 'Philip Pullman'),\n",
       " ('The Golden Compass (His Dark Materials, #1)', 'Philip Pullman'),\n",
       " ('The Amber Spyglass (His Dark Materials, #3)', 'Philip Pullman'),\n",
       " ('The Last Unicorn (The Last Unicorn, #1)', 'Peter S. Beagle'),\n",
       " (\"The Hitchhiker's Guide to the Galaxy (Hitchhiker's Guide to the Galaxy, #1)\",\n",
       "  'Douglas Adams'),\n",
       " ('His Dark Materials (His Dark Materials #1-3)', 'Philip Pullman'),\n",
       " ('The Complete Guide to Middle-Earth', 'Robert Foster, J.R.R. Tolkien'),\n",
       " (\"The Magician's Nephew (Chronicles of Narnia, #6)\", 'C.S. Lewis'),\n",
       " ('The Lion, the Witch, and the Wardrobe (Chronicles of Narnia, #1)',\n",
       "  'C.S. Lewis'),\n",
       " ('A Wizard of Earthsea (Earthsea Cycle, #1)', 'Ursula K. Le Guin')]"
      ]
     },
     "execution_count": 1045,
     "metadata": {},
     "output_type": "execute_result"
    }
   ],
   "source": [
    "corpus_recommendations(\"The Hobbit\", 21)"
   ]
  },
  {
   "cell_type": "markdown",
   "metadata": {},
   "source": [
    "**Two simple intuitive stratagies to improve the value of reccomendations:**\n",
    "\n",
    "- **Anti-flood**: penalise the second and third recomendations if they had the same similarity scores to the top reccomendation\n",
    "- **Dithering**: Add a wild card reccomendation to keep it interesting and allow users to keep being exposed to new content. "
   ]
  },
  {
   "cell_type": "markdown",
   "metadata": {},
   "source": [
    "Now, I would like to filter out the books that have been written by the same author, exposing users to new content. "
   ]
  },
  {
   "cell_type": "code",
   "execution_count": 1046,
   "metadata": {
    "ExecuteTime": {
     "end_time": "2020-04-08T11:52:32.145002Z",
     "start_time": "2020-04-08T11:52:32.105029Z"
    }
   },
   "outputs": [],
   "source": [
    "titles = books['title']\n",
    "indices = pd.Series(books.index, index=books['title'])\n",
    "authors = books['authors']\n",
    "\n",
    "def corpus_noauthors(title, num_recs):\n",
    "    \n",
    "    idx = indices[title]\n",
    "    author_idx = authors[idx]\n",
    "    sim_scores = list(enumerate(cosine_sim_corpus[idx]))\n",
    "    sim_scores = sorted(sim_scores, key=lambda x: x[1], reverse=True)\n",
    "    book_indices = [i[0] for i in sim_scores]\n",
    " \n",
    "    temp_authors = []\n",
    "    for a in authors.iloc[book_indices]:\n",
    "        if str(author_idx.split(',')[0]) not in a:\n",
    "            temp_authors.append(a)\n",
    "        else:\n",
    "            temp_authors.append(np.nan) \n",
    "    new_auth_i = pd.Series(temp_authors, index=book_indices)\n",
    "    new_auth_i.dropna(inplace=True)\n",
    "    \n",
    "    new_indices = [i for i in new_auth_i.index]\n",
    "    new_indices = new_indices[1:num_recs]\n",
    "\n",
    "    \n",
    "    return list(zip(titles.iloc[new_indices], authors.iloc[new_indices]))\n"
   ]
  },
  {
   "cell_type": "code",
   "execution_count": 1047,
   "metadata": {
    "ExecuteTime": {
     "end_time": "2020-04-08T11:52:32.293030Z",
     "start_time": "2020-04-08T11:52:32.151678Z"
    }
   },
   "outputs": [
    {
     "data": {
      "text/plain": [
       "[('The Subtle Knife (His Dark Materials, #2)', 'Philip Pullman'),\n",
       " ('The Golden Compass (His Dark Materials, #1)', 'Philip Pullman'),\n",
       " ('The Amber Spyglass (His Dark Materials, #3)', 'Philip Pullman'),\n",
       " ('The Last Unicorn (The Last Unicorn, #1)', 'Peter S. Beagle'),\n",
       " (\"The Hitchhiker's Guide to the Galaxy (Hitchhiker's Guide to the Galaxy, #1)\",\n",
       "  'Douglas Adams'),\n",
       " ('His Dark Materials (His Dark Materials #1-3)', 'Philip Pullman'),\n",
       " (\"The Magician's Nephew (Chronicles of Narnia, #6)\", 'C.S. Lewis'),\n",
       " ('The Lion, the Witch, and the Wardrobe (Chronicles of Narnia, #1)',\n",
       "  'C.S. Lewis'),\n",
       " ('A Wizard of Earthsea (Earthsea Cycle, #1)', 'Ursula K. Le Guin'),\n",
       " ('A Clash of Kings  (A Song of Ice and Fire, #2)', 'George R.R. Martin'),\n",
       " ('The Last Battle (Chronicles of Narnia, #7)', 'C.S. Lewis'),\n",
       " ('A Wrinkle in Time (A Wrinkle in Time Quintet, #1)', \"Madeleine L'Engle\"),\n",
       " ('The Voyage of the Dawn Treader (Chronicles of Narnia, #3)',\n",
       "  'C.S. Lewis, Pauline Baynes'),\n",
       " ('The Fires of Heaven (Wheel of Time, #5)', 'Robert Jordan'),\n",
       " ('The Blue Sword (Damar, #1)', 'Robin McKinley'),\n",
       " ('The Dark Is Rising (The Dark is Rising, #2)', 'Susan Cooper'),\n",
       " ('Dragonflight (Dragonriders of Pern, #1)',\n",
       "  'Anne McCaffrey, Teodor Panasiński'),\n",
       " ('Abhorsen (Abhorsen, #3)', 'Garth Nix'),\n",
       " ('The Dragon Reborn (Wheel of Time, #3)', 'Robert Jordan'),\n",
       " ('Lirael (Abhorsen, #2)', 'Garth Nix')]"
      ]
     },
     "execution_count": 1047,
     "metadata": {},
     "output_type": "execute_result"
    }
   ],
   "source": [
    "corpus_noauthors(\"The Hobbit\", 21)"
   ]
  },
  {
   "cell_type": "code",
   "execution_count": 1048,
   "metadata": {
    "ExecuteTime": {
     "end_time": "2020-04-08T11:52:32.375152Z",
     "start_time": "2020-04-08T11:52:32.295896Z"
    }
   },
   "outputs": [
    {
     "data": {
      "text/plain": [
       "[('Great Expectations', 'Charles Dickens'),\n",
       " ('The Catcher in the Rye', 'J.D. Salinger'),\n",
       " ('Death of a Salesman', 'Arthur Miller'),\n",
       " ('Lord of the Flies', 'William Golding'),\n",
       " ('Of Mice and Men', 'John Steinbeck'),\n",
       " ('A Streetcar Named Desire', 'Tennessee Williams'),\n",
       " ('Beowulf', 'Unknown, Seamus Heaney'),\n",
       " ('Ethan Frome', 'Edith Wharton'),\n",
       " ('Frankenstein',\n",
       "  'Mary Wollstonecraft Shelley, Percy Bysshe Shelley, Maurice Hindle'),\n",
       " ('The Canterbury Tales', 'Geoffrey Chaucer, Nevill Coghill'),\n",
       " ('A Separate Peace', 'John Knowles'),\n",
       " ('Heart of Darkness', 'Joseph Conrad'),\n",
       " ('The Great Gatsby', 'F. Scott Fitzgerald'),\n",
       " ('Pygmalion', 'George Bernard Shaw'),\n",
       " ('The Awakening', 'Kate Chopin'),\n",
       " ('Pride and Prejudice', 'Jane Austen'),\n",
       " ('The Adventures of Huckleberry Finn',\n",
       "  'Mark Twain, John Seelye, Guy Cardwell'),\n",
       " ('A Tale of Two Cities',\n",
       "  'Charles Dickens, Richard Maxwell, Hablot Knight Browne'),\n",
       " ('The Importance of Being Earnest', 'Oscar Wilde'),\n",
       " ('The Glass Menagerie', 'Tennessee Williams')]"
      ]
     },
     "execution_count": 1048,
     "metadata": {},
     "output_type": "execute_result"
    }
   ],
   "source": [
    "corpus_noauthors(\"Romeo and Juliet\", 21)"
   ]
  },
  {
   "cell_type": "markdown",
   "metadata": {},
   "source": [
    "Create a reccommendation network"
   ]
  },
  {
   "cell_type": "code",
   "execution_count": 1049,
   "metadata": {
    "ExecuteTime": {
     "end_time": "2020-04-08T11:52:32.425304Z",
     "start_time": "2020-04-08T11:52:32.382536Z"
    }
   },
   "outputs": [],
   "source": [
    "def prepare_df(title, num_recs):\n",
    "    \n",
    "    idx = indices[title]\n",
    "    author_idx = authors[idx]\n",
    "    sim_scores = list(enumerate(cosine_sim_corpus[idx]))\n",
    "    \n",
    "    sim = sorted(sim_scores, key=lambda x: x[1], reverse=True)\n",
    "    book_indices = [i[0] for i in sim]\n",
    " \n",
    "    temp_authors = []\n",
    "    for a in authors.iloc[book_indices]:\n",
    "        if str(author_idx.split(',')[0]) not in a:\n",
    "            temp_authors.append(a)\n",
    "        else:\n",
    "            temp_authors.append(np.nan) \n",
    "    new_auth_i = pd.Series(temp_authors, index=book_indices)\n",
    "    new_auth_i.dropna(inplace=True)\n",
    "    \n",
    "    new_indices = [i for i in new_auth_i.index]\n",
    "    new_indices = new_indices[1:num_recs]\n",
    "    \n",
    "    score_indices = [i[1] for i in sim_scores]\n",
    "    new_scores = pd.Series(score_indices, index=book_indices)\n",
    "    \n",
    "    final_df = pd.DataFrame((zip(titles.iloc[new_indices], \n",
    "                                 new_scores.iloc[new_indices])))\n",
    "    final_df['original_title'] = final_df.apply(lambda x: title, axis=1)\n",
    "    \n",
    "    return final_df"
   ]
  },
  {
   "cell_type": "code",
   "execution_count": 1165,
   "metadata": {
    "ExecuteTime": {
     "end_time": "2020-04-08T12:38:48.921119Z",
     "start_time": "2020-04-08T12:38:48.878083Z"
    }
   },
   "outputs": [],
   "source": [
    "def inspire_me(title, number_of_recs):\n",
    "\n",
    "    df = prepare_df(title, number_of_recs)  \n",
    "    #log to exaggarate differences between predictions \n",
    "    df['log'] = (np.log(1 + df[1]))\n",
    "    \n",
    "    G = nx.from_pandas_edgelist(df, 'original_title', 0, 'log')\n",
    "    \n",
    "    plt.figure(figsize=(6,6))\n",
    "    \n",
    "    pos = nx.spring_layout(G)\n",
    "\n",
    "    return nx.draw(G, node_size=0, font_size=12,pos=pos, seed=1, with_labels=True)"
   ]
  },
  {
   "cell_type": "code",
   "execution_count": 1169,
   "metadata": {
    "ExecuteTime": {
     "end_time": "2020-04-08T12:42:12.482309Z",
     "start_time": "2020-04-08T12:42:12.146596Z"
    }
   },
   "outputs": [
    {
     "data": {
      "image/png": "[encoded data removed]",
      "text/plain": [
       "<Figure size 432x432 with 1 Axes>"
      ]
     },
     "metadata": {
      "image/png": {
       "height": 452,
       "width": 452
      }
     },
     "output_type": "display_data"
    }
   ],
   "source": [
    "inspire_me(\"Romeo and Juliet\", 10)"
   ]
  },
  {
   "cell_type": "markdown",
   "metadata": {},
   "source": [
    "## Future directions\n",
    "\n",
    "- SVD++ to optimise collab filtering score further \n",
    "- FuzzyWuzzy package to build the function that remove books of the same series or author."
   ]
  }
 ],
 "metadata": {
  "kernelspec": {
   "display_name": "Python 3",
   "language": "python",
   "name": "python3"
  },
  "language_info": {
   "codemirror_mode": {
    "name": "ipython",
    "version": 3
   },
   "file_extension": ".py",
   "mimetype": "text/x-python",
   "name": "python",
   "nbconvert_exporter": "python",
   "pygments_lexer": "ipython3",
   "version": "3.7.4"
  }
 },
 "nbformat": 4,
 "nbformat_minor": 2
}
